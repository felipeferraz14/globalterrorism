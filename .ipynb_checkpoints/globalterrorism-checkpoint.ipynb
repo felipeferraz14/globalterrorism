{
 "cells": [
  {
   "cell_type": "code",
   "execution_count": null,
   "metadata": {
    "collapsed": true
   },
   "outputs": [],
   "source": [
    "import pandas as pd\n",
    "from pandas import *\n",
    "import matplotlib.pyplot as plt\n",
    "from matplotlib.pyplot import *\n",
    "%matplotlib inline\n",
    "import numpy as np\n",
    "from datetime import date\n",
    "plt.style.use('seaborn')"
   ]
  },
  {
   "cell_type": "code",
   "execution_count": null,
   "metadata": {},
   "outputs": [],
   "source": [
    "#Reading the CSV\n",
    "dataset = pd.read_csv('globalterrorismdb.csv', encoding = \"ISO-8859-1\", sep=',', low_memory=False)\n",
    "#Creating new dataframe to change de type of variable\n",
    "df = pd.DataFrame({'year': dataset['iyear'],\n",
    "                       'month': dataset['imonth'],\n",
    "                       'day': dataset['iday']})\n",
    "dataset[['day', 'month', 'year']] = df\n",
    "#Filtring data only after 2000's \n",
    "dataset = dataset[dataset['year'] >= 2000]"
   ]
  },
  {
   "cell_type": "markdown",
   "metadata": {},
   "source": [
    "# First Analysis"
   ]
  },
  {
   "cell_type": "code",
   "execution_count": null,
   "metadata": {
    "collapsed": true
   },
   "outputs": [],
   "source": [
    "dfPWep = dataset['weapsubtype1_txt'].value_counts();"
   ]
  },
  {
   "cell_type": "code",
   "execution_count": null,
   "metadata": {},
   "outputs": [],
   "source": [
    "dfPWep.plot(kind='barh',figsize=(11,7), color='blue', title=\"The Weapons used in terrorist attack in the last 17 years\");"
   ]
  },
  {
   "cell_type": "markdown",
   "metadata": {},
   "source": [
    "First analysis is the list of the weapost most used in the terrorist attack in the last 17 years. How you can see, the most weapons used there's no knowlegde about that. "
   ]
  },
  {
   "cell_type": "code",
   "execution_count": null,
   "metadata": {
    "collapsed": true
   },
   "outputs": [],
   "source": [
    "dfYeWe = dataset[['iyear','weapsubtype1_txt']]\n",
    "dfYeWe = pd.DataFrame(dfYeWe)"
   ]
  },
  {
   "cell_type": "code",
   "execution_count": null,
   "metadata": {
    "collapsed": true
   },
   "outputs": [],
   "source": [
    "group01 = dfYeWe[(dfYeWe['weapsubtype1_txt'] == 'Unknown Explosive Type')]\n",
    "group02 = dfYeWe[(dfYeWe['weapsubtype1_txt'] == 'Unknown Gun Type')]\n",
    "group03 = dfYeWe[(dfYeWe['weapsubtype1_txt'] == 'Vehicle')]\n",
    "group04 = dfYeWe[(dfYeWe['weapsubtype1_txt'] == 'Projectile (rockets, mortars, RPGs, etc.)')]\n",
    "group05 = dfYeWe[(dfYeWe['weapsubtype1_txt'] == 'Other Explosive Type')]\n",
    "group06 = dfYeWe[(dfYeWe['weapsubtype1_txt'] == 'Handgun')]\n",
    "group07 = dfYeWe[(dfYeWe['weapsubtype1_txt'] == 'Grenade')]\n",
    "group08 = dfYeWe[(dfYeWe['weapsubtype1_txt'] == 'Land Mine')]\n",
    "group09 = dfYeWe[(dfYeWe['weapsubtype1_txt'] == 'Arson/Fire')]\n",
    "group00 = dfYeWe[(dfYeWe['weapsubtype1_txt'] == 'Suicide (carried bodily by human being)')]\n",
    "gpk01 = group01.groupby(['iyear']).size()\n",
    "gpk02 = group02.groupby(['iyear']).size()\n",
    "gpk03 = group03.groupby(['iyear']).size()\n",
    "gpk04 = group04.groupby(['iyear']).size()\n",
    "gpk05 = group05.groupby(['iyear']).size()\n",
    "gpk06 = group06.groupby(['iyear']).size()\n",
    "gpk07 = group07.groupby(['iyear']).size()\n",
    "gpk08 = group08.groupby(['iyear']).size()\n",
    "gpk09 = group09.groupby(['iyear']).size()\n",
    "gpk00 = group00.groupby(['iyear']).size()\n",
    "\n",
    "   "
   ]
  },
  {
   "cell_type": "code",
   "execution_count": null,
   "metadata": {
    "collapsed": true
   },
   "outputs": [],
   "source": [
    "# Creating new series to the new Data Frame \n",
    "newDfGr = {\n",
    "    'Unknown Explosive Type' : gpk01,\n",
    "    'Unknown Gun Type' : gpk02,\n",
    "    'Vehicle' : gpk03,\n",
    "    'Projectile (rockets, mortars, RPGs, etc.)': gpk04,\n",
    "    'Other Explosive Type': gpk05,\n",
    "    'Handgun': gpk06,\n",
    "    'Grenade': gpk07,\n",
    "    'Land Mine': gpk08,\n",
    "    'Arson/Fire': gpk09,\n",
    "    'Suicide (carried bodily by human being)': gpk00\n",
    "    \n",
    "}\n",
    "dfWepYear = pd.DataFrame(newDfGr)"
   ]
  },
  {
   "cell_type": "code",
   "execution_count": null,
   "metadata": {},
   "outputs": [],
   "source": [
    "dfWepYear.plot(figsize=(15,10), title=\"Types of weapons used in terrorist attack by years\");"
   ]
  },
  {
   "cell_type": "markdown",
   "metadata": {},
   "source": [
    "That is the same information but using other view. Using that graphic you can see the 10 most weapons used during the years and how their conduct. "
   ]
  },
  {
   "cell_type": "code",
   "execution_count": null,
   "metadata": {
    "collapsed": true
   },
   "outputs": [],
   "source": [
    "#Creatin new dataset with some data\n",
    "datasetkill = dataset[['year','country_txt', 'nkill', 'nwound']]"
   ]
  },
  {
   "cell_type": "code",
   "execution_count": null,
   "metadata": {},
   "outputs": [],
   "source": [
    "#datasetkill.groupby([datasetkill.year, datasetkill.nkill]).size()"
   ]
  },
  {
   "cell_type": "code",
   "execution_count": 27,
   "metadata": {},
   "outputs": [
    {
     "data": {
      "text/plain": [
       "<function ndarray.mean>"
      ]
     },
     "execution_count": 27,
     "metadata": {},
     "output_type": "execute_result"
    }
   ],
   "source": []
  },
  {
   "cell_type": "code",
   "execution_count": 42,
   "metadata": {
    "scrolled": false
   },
   "outputs": [
    {
     "data": {
      "image/png": "[encoded data removed]",
      "text/plain": [
       "<matplotlib.figure.Figure at 0x1fb02f794e0>"
      ]
     },
     "metadata": {},
     "output_type": "display_data"
    }
   ],
   "source": [
    "datasetkill.groupby(datasetkill.year).mean().plot(figsize=(15,10), title= \"Average of people killed and Wounded according \" \n",
    "                                                  \"the quantity of attack by years \");\n",
    "plt.xlabel('Year');\n",
    "plt.ylabel('Average');"
   ]
  },
  {
   "cell_type": "markdown",
   "metadata": {},
   "source": [
    "This is the average by years about people killed and wounded  "
   ]
  },
  {
   "cell_type": "code",
   "execution_count": null,
   "metadata": {
    "collapsed": true
   },
   "outputs": [],
   "source": [
    "datasetkillnew = datasetkill.set_index('year')"
   ]
  },
  {
   "cell_type": "code",
   "execution_count": null,
   "metadata": {
    "collapsed": true
   },
   "outputs": [],
   "source": [
    "datasetkillnew = datasetkill[['year', 'nkill']]\n",
    "datasetwoundnew = datasetkill[['year', 'nwound']]\n",
    "dtkn = datasetkillnew.groupby('year').size();\n",
    "dtwm = datasetwoundnew.groupby('year').size();"
   ]
  },
  {
   "cell_type": "code",
   "execution_count": null,
   "metadata": {
    "collapsed": true
   },
   "outputs": [],
   "source": [
    "newDfGrKw = {\n",
    "    'Killed' : dtkn,\n",
    "    'Wound' : dtwm\n",
    "    \n",
    "}\n",
    "dfKillWou = pd.DataFrame(newDfGrKw)"
   ]
  },
  {
   "cell_type": "code",
   "execution_count": null,
   "metadata": {},
   "outputs": [],
   "source": [
    "dfKillWou.plot();"
   ]
  },
  {
   "cell_type": "code",
   "execution_count": null,
   "metadata": {
    "collapsed": true
   },
   "outputs": [],
   "source": [
    "dtg = dataset.groupby(['country_txt','year']).size()"
   ]
  },
  {
   "cell_type": "code",
   "execution_count": null,
   "metadata": {
    "collapsed": true
   },
   "outputs": [],
   "source": [
    "dtgroupcountry  = pd.DataFrame(dtg)"
   ]
  },
  {
   "cell_type": "code",
   "execution_count": null,
   "metadata": {
    "collapsed": true
   },
   "outputs": [],
   "source": [
    "dtgroupcountrypivoted = dtgroupcountry.pivot_table(columns='country_txt', index='year')"
   ]
  },
  {
   "cell_type": "code",
   "execution_count": null,
   "metadata": {},
   "outputs": [],
   "source": [
    "dtgroupcountrypivoted.plot(legend=False);"
   ]
  },
  {
   "cell_type": "code",
   "execution_count": null,
   "metadata": {
    "collapsed": true
   },
   "outputs": [],
   "source": []
  },
  {
   "cell_type": "markdown",
   "metadata": {},
   "source": [
    "Days of the month when happens the terrorist attack"
   ]
  },
  {
   "cell_type": "code",
   "execution_count": null,
   "metadata": {},
   "outputs": [],
   "source": [
    "fig, ax = plt.subplots(1, 2, figsize=(18,7))\n",
    "dataset.groupby(['day']).size().plot(ax = ax[0], title= 'Analysis of terrorist attacks by day');\n",
    "dataset.groupby(['month']).size().plot(ax = ax[1], title = 'Analysis of terrorist attacks by month');"
   ]
  },
  {
   "cell_type": "code",
   "execution_count": null,
   "metadata": {
    "collapsed": true
   },
   "outputs": [],
   "source": [
    "dtGrouAtt = dataset.groupby(['year', 'attacktype1_txt']).size()"
   ]
  },
  {
   "cell_type": "code",
   "execution_count": null,
   "metadata": {},
   "outputs": [],
   "source": [
    "dtGrouAtt"
   ]
  },
  {
   "cell_type": "code",
   "execution_count": null,
   "metadata": {
    "collapsed": true
   },
   "outputs": [],
   "source": [
    "dtGrouAtt = pd.DataFrame(dtGrouAtt, index=None)"
   ]
  },
  {
   "cell_type": "code",
   "execution_count": null,
   "metadata": {},
   "outputs": [],
   "source": [
    "dtGrouAtt.set_index('year')"
   ]
  },
  {
   "cell_type": "code",
   "execution_count": null,
   "metadata": {
    "collapsed": true
   },
   "outputs": [],
   "source": [
    "dtGrouAtt = dtGrouAtt.pivot_table(columns='attacktype1_txt', index='year')"
   ]
  },
  {
   "cell_type": "code",
   "execution_count": null,
   "metadata": {},
   "outputs": [],
   "source": [
    "dtGrouAtt.plot(kind='bar');"
   ]
  },
  {
   "cell_type": "code",
   "execution_count": null,
   "metadata": {},
   "outputs": [],
   "source": [
    "dtGrouAtt"
   ]
  },
  {
   "cell_type": "code",
   "execution_count": null,
   "metadata": {
    "collapsed": true
   },
   "outputs": [],
   "source": []
  }
 ],
 "metadata": {
  "kernelspec": {
   "display_name": "Python 3",
   "language": "python",
   "name": "python3"
  },
  "language_info": {
   "codemirror_mode": {
    "name": "ipython",
    "version": 3
   },
   "file_extension": ".py",
   "mimetype": "text/x-python",
   "name": "python",
   "nbconvert_exporter": "python",
   "pygments_lexer": "ipython3",
   "version": "3.6.1"
  }
 },
 "nbformat": 4,
 "nbformat_minor": 2
}
